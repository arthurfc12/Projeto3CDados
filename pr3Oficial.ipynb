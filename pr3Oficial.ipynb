{
 "cells": [
  {
   "cell_type": "markdown",
   "metadata": {},
   "source": [
    "# Projeto 3 Ciência dos Dados - Mercado Imobiliário\n",
    "\n",
    "Grupo 1 / 2C\n",
    "\n",
    "Arthur Carvalho, Fernando Bichuette, Guilherme Lunetta, Rafael Kahn.\n",
    "\n",
    "# É PRECISO INSTALAR A BIBLIOTECA GRAPHVIZ NO COMPUTADOR"
   ]
  },
  {
   "cell_type": "markdown",
   "metadata": {},
   "source": [
    "## Pergunta"
   ]
  },
  {
   "cell_type": "markdown",
   "metadata": {},
   "source": [
    "   Como podemos classificar imóveis da cidade de São Paulo por padrão de vida utilizando técnicas obtidas ao longo do       semestre? "
   ]
  },
  {
   "cell_type": "markdown",
   "metadata": {},
   "source": [
    "## Motivação/Introdução\n"
   ]
  },
  {
   "cell_type": "markdown",
   "metadata": {},
   "source": [
    "   O mercado imobiliário é o mercado que trata de qualquer venda relacionada à propriedade e ao terreno no qual este está inserido. Dito isso, é razoável inferir que este é um dos grandes setores da economia de qualquer local desenvolvido. No contexto do Brasil, é inegável dizer que o lugar com maior potencial de liquidez do mercado imobiliário é São Paulo. Porém, em uma cidade de tal dimensão e com suas complexidades e características intrínsecas a si, é difícil fazer uma análise do mercado imobiliário apenas partindo do senso comum e de técnicas obsoletas. Assim, o grupo 1 do projeto 3 de ciência dos dados decide fazer uma análise exploratória e utilizar a técnica de regressão linear para estudar o mercado imobiliário de São Paulo. O resultado do projeto está disponível abaixo.\n",
    "\n"
   ]
  },
  {
   "cell_type": "markdown",
   "metadata": {},
   "source": [
    "## Random Forest"
   ]
  },
  {
   "cell_type": "markdown",
   "metadata": {},
   "source": [
    "   Random forest é uma técnica de classificação e regressão que utiliza de diversas árvores de escolha para formular uma decisão. Nesse método, a base de dados é separada em treinamento e teste, onde o treinamento utiliza uma amostra      aleatória de dados da base, nesse caso imóveis, para perceber padrões entre as variáveis atribuidas ao dado. Feito isso, o método é aplicado no teste, fazendo a mesma coisa que na base treinamento. Para o trabalho, será utilizado a parte da técnica relativa à classificação."
   ]
  },
  {
   "cell_type": "code",
   "execution_count": 8,
   "metadata": {},
   "outputs": [
    {
     "ename": "ModuleNotFoundError",
     "evalue": "No module named 'graphviz'",
     "output_type": "error",
     "traceback": [
      "\u001b[1;31m---------------------------------------------------------------------------\u001b[0m",
      "\u001b[1;31mModuleNotFoundError\u001b[0m                       Traceback (most recent call last)",
      "\u001b[1;32m<ipython-input-8-13258b315ccf>\u001b[0m in \u001b[0;36m<module>\u001b[1;34m\u001b[0m\n\u001b[0;32m     18\u001b[0m \u001b[1;32mimport\u001b[0m \u001b[0mmpl_toolkits\u001b[0m\u001b[1;33m\u001b[0m\u001b[1;33m\u001b[0m\u001b[0m\n\u001b[0;32m     19\u001b[0m \u001b[1;32mfrom\u001b[0m \u001b[0msklearn\u001b[0m\u001b[1;33m.\u001b[0m\u001b[0mtree\u001b[0m \u001b[1;32mimport\u001b[0m \u001b[0mexport_graphviz\u001b[0m\u001b[1;33m\u001b[0m\u001b[1;33m\u001b[0m\u001b[0m\n\u001b[1;32m---> 20\u001b[1;33m \u001b[1;32mimport\u001b[0m \u001b[0mgraphviz\u001b[0m\u001b[1;33m\u001b[0m\u001b[1;33m\u001b[0m\u001b[0m\n\u001b[0m\u001b[0;32m     21\u001b[0m \u001b[1;32mfrom\u001b[0m \u001b[0mIPython\u001b[0m\u001b[1;33m.\u001b[0m\u001b[0mdisplay\u001b[0m \u001b[1;32mimport\u001b[0m \u001b[0mImage\u001b[0m\u001b[1;33m\u001b[0m\u001b[1;33m\u001b[0m\u001b[0m\n",
      "\u001b[1;31mModuleNotFoundError\u001b[0m: No module named 'graphviz'"
     ]
    }
   ],
   "source": [
    "#Começar por importar as bibliotecas necessárias\n",
    "\n",
    "%matplotlib inline\n",
    "%reset -f\n",
    "import math\n",
    "import matplotlib.pyplot as plt\n",
    "import pandas as pd\n",
    "import numpy as np\n",
    "from scipy import stats\n",
    "from scipy.stats import norm, uniform, probplot\n",
    "from sklearn.ensemble import RandomForestClassifier\n",
    "from sklearn.model_selection import train_test_split\n",
    "from sklearn import svm, datasets\n",
    "from sklearn.model_selection import train_test_split\n",
    "from sklearn.metrics import confusion_matrix\n",
    "from sklearn.utils.multiclass import unique_labels\n",
    "import seaborn as sns\n",
    "import mpl_toolkits\n",
    "from sklearn.tree import export_graphviz\n",
    "import graphviz\n",
    "from IPython.display import Image"
   ]
  },
  {
   "cell_type": "code",
   "execution_count": null,
   "metadata": {},
   "outputs": [],
   "source": [
    "#Definir seed\n",
    "RANDOM_SEED = 69\n",
    "np.random.seed(RANDOM_SEED)\n"
   ]
  },
  {
   "cell_type": "code",
   "execution_count": null,
   "metadata": {},
   "outputs": [],
   "source": [
    "#Abrindo a base de dados\n",
    "\n",
    "data = pd.read_csv(\"sao-paulo-properties-april-2019.csv\")\n",
    "data.drop(data.columns[[15, 14]], axis=1, inplace=True)\n",
    "\n",
    "# Limitar a análise para somente vendas\n",
    "\n",
    "data = data[data['Negotiation Type'] == 'sale']\n",
    "data.head()\n"
   ]
  },
  {
   "cell_type": "code",
   "execution_count": null,
   "metadata": {},
   "outputs": [],
   "source": [
    "#Zonas de São Paulo\n",
    "\n",
    "zona_sul = ['Campo Limpo', 'Capão Redondo', 'Vila Andrade', 'Cidade Dutra', 'Grajaú', 'Socorro', 'Cidade Ademar', 'Pedreira', 'Ipiranga', 'Sacomã', 'Jabaquara', \"M'Boi Mirim\", 'Jardim Ângela', 'Jardim Sao Luis', 'Parelheiros', 'Marsilac', 'Santo Amaro', 'Campo Belo', 'Campo Grande', 'Moema', 'Saúde', 'Vila Mariana', 'Brooklin', 'Vila Olimpia', 'Cursino', 'Jardim São Luis']\n",
    "zona_leste = ['Aricanduva', 'Carrão', 'Vila Formosa', 'Cidade Tiradentes', 'Ermelino Matarazzo', 'Ponte Rasa', 'Guaianases', 'Lajeado', 'Itaim Paulista', 'Vila Curuça', 'Itaquera', 'Cidade Lider', 'José Bonifácio', 'Parque do Carmo', 'Mooca Água Rasa', 'Belém', 'Brás', 'Mooca', 'Pari', 'Tatuapé', 'Penha', 'Artur Alvim', 'Cangaíba', 'Penha', 'Vila Matilde', 'São Mateus', 'São Rafael', 'São Miguel', 'Jardim Helena', 'Vila Jacuí', 'Sapopemba', 'Vila Prudente', 'São Lucas', 'Água Rasa', 'Vila Curuçá', 'Cidade Líder', 'Guaianazes', 'Iguatemi'] \n",
    "zona_oeste = ['Butantã', 'Morumbi', 'Raposo Tavares', 'Rio Pequeno', 'Vila Sônia', 'Lapa', 'Barra Funda', 'Jaguara', 'Jaguaré', 'Perdizes', 'Vila Leopoldina', 'Pinheiros', 'Alto de Pinheiros', 'Itaim Bibi', 'Jardim Paulista', 'Pinheiros', 'Vila Madalena']\n",
    "zona_norte = ['Casa Verde', 'Cachoeirinha', 'Limão', 'Brasilândia', 'Freguesia do Ó', 'Jaçanã', 'Tremembé', 'Perus', 'Anhanguera', 'Pirituba', 'Jaraguá', 'São Domingos', 'Santana', 'Tucuruvi', 'Mandaqui', 'Vila Maria', 'Vila Guilherme', 'Vila Medeiros', 'Medeiros']\n",
    "centro = ['Sé Bela Vista', 'Bela Vista', 'Bom Retiro', 'Cambuci', 'Consolação', 'Liberdade', 'República', 'Santa Cecília', 'Sé']"
   ]
  },
  {
   "cell_type": "code",
   "execution_count": null,
   "metadata": {},
   "outputs": [],
   "source": [
    "#Tirando /São Paulo dos bairros\n",
    "\n",
    "filtro = data.District.str.replace('/São Paulo', '')\n",
    "filtro\n",
    "data.District = filtro\n"
   ]
  },
  {
   "cell_type": "code",
   "execution_count": null,
   "metadata": {},
   "outputs": [],
   "source": [
    "#Adicionando zonas em função dos bairros para cada item do DataFrame\n",
    "\n",
    "data.loc[(data.District).isin (zona_sul), 'Zone'] = 'ZS'\n",
    "data.loc[(data.District).isin (zona_leste), 'Zone'] = 'ZL'\n",
    "data.loc[(data.District).isin (zona_oeste), 'Zone'] = 'ZO'\n",
    "data.loc[(data.District).isin (zona_norte), 'Zone'] = 'ZN'\n",
    "data.loc[(data.District).isin (centro), 'Zone'] = 'Centro'\n"
   ]
  },
  {
   "cell_type": "code",
   "execution_count": null,
   "metadata": {},
   "outputs": [],
   "source": [
    "#Novo data.head(), agora filtrado conforme as zonas da cidade\n",
    "\n",
    "data.head()\n"
   ]
  },
  {
   "cell_type": "code",
   "execution_count": null,
   "metadata": {},
   "outputs": [],
   "source": [
    "data.describe()\n"
   ]
  },
  {
   "cell_type": "markdown",
   "metadata": {},
   "source": [
    "## Análise Explorativa\n",
    "\n",
    "Vale lembrar que o target da análise é o preço do imóvel\n",
    "\n"
   ]
  },
  {
   "cell_type": "markdown",
   "metadata": {},
   "source": [
    "### Price x Condo\n"
   ]
  },
  {
   "cell_type": "code",
   "execution_count": null,
   "metadata": {},
   "outputs": [],
   "source": [
    "plt.scatter(data['Condo'][data['Condo']!=0], data['Price'][data['Condo']!=0]/1000000)\n",
    "plt.xlabel('Preço do Condomínio')\n",
    "plt.ylabel('Preço do imóvel (em milhões)')\n",
    "plt.title('Preço Imóvel x Preço Condomínio')\n",
    "plt.grid(True)\n",
    "plt.show()\n"
   ]
  },
  {
   "cell_type": "code",
   "execution_count": null,
   "metadata": {},
   "outputs": [],
   "source": [
    "data['Price'].corr(data['Condo'])"
   ]
  },
  {
   "cell_type": "markdown",
   "metadata": {},
   "source": [
    "* Por esse gráfico podemos analisar que o preço do condomínio tem uma influência razoável no preço do imóvel. Existem outliers significantes que podreão ser desconsiderados. Analisando também a correlação, é possível dizer que o Preço do Condomínio é significante para nosso trabalho\n"
   ]
  },
  {
   "cell_type": "markdown",
   "metadata": {},
   "source": [
    "### Price x Size"
   ]
  },
  {
   "cell_type": "code",
   "execution_count": null,
   "metadata": {},
   "outputs": [],
   "source": [
    "a = data[\"Price\"]/1000000"
   ]
  },
  {
   "cell_type": "code",
   "execution_count": null,
   "metadata": {},
   "outputs": [],
   "source": [
    "x1 = data['Size']\n",
    "y1 = a\n",
    "plt.xlabel('Tamando do imóvel')\n",
    "plt.ylabel('Preço do imóvel (em milhões)')\n",
    "plt.title('Preço Imóvel x Tamanho do imóvel')\n",
    "plt.scatter(x1,y1)\n",
    "plt.grid(True)"
   ]
  },
  {
   "cell_type": "code",
   "execution_count": null,
   "metadata": {},
   "outputs": [],
   "source": [
    "x1.corr(y1)"
   ]
  },
  {
   "cell_type": "markdown",
   "metadata": {},
   "source": [
    "* A partir desse gráfico, pode-se observar que o tamanho do imóvel tem grande influência no preço do imóvel, com uma correlação de 0.82 e pouquíssimos outliers. Com certeza entra na lista de variáveis significantes\n"
   ]
  },
  {
   "cell_type": "markdown",
   "metadata": {},
   "source": [
    "### Price x Toilets"
   ]
  },
  {
   "cell_type": "code",
   "execution_count": null,
   "metadata": {},
   "outputs": [],
   "source": [
    "plt.scatter(data['Toilets'], data['Price']/1000000)\n",
    "plt.xlabel('nº de Banheiros')\n",
    "plt.ylabel('Preço do imóvel (em milhões)')\n",
    "plt.title('Preço Imóvel x nº de Banheiros')\n",
    "plt.grid(True)\n",
    "plt.show()"
   ]
  },
  {
   "cell_type": "code",
   "execution_count": null,
   "metadata": {},
   "outputs": [],
   "source": [
    "data['Price'].corr(data['Toilets'])"
   ]
  },
  {
   "cell_type": "markdown",
   "metadata": {},
   "source": [
    "* O número de banheiros é razoavelmente significante em relação ao preço de um imóvel pois sua correlação está em torno de 0.6. Quase não tem outliers.\n"
   ]
  },
  {
   "cell_type": "markdown",
   "metadata": {},
   "source": [
    "### Scatter Price x Rooms"
   ]
  },
  {
   "cell_type": "code",
   "execution_count": null,
   "metadata": {},
   "outputs": [],
   "source": [
    "x2 =  data.loc[:,['Rooms']]\n",
    "y2 =  a\n",
    "plt.xlabel('Número de Quartos')\n",
    "plt.ylabel('Preço do imóvel (em milhões)')\n",
    "plt.title('Preço Imóvel x Número de quartos')\n",
    "plt.scatter(x2,y2)\n",
    "plt.grid(True)"
   ]
  },
  {
   "cell_type": "code",
   "execution_count": null,
   "metadata": {},
   "outputs": [],
   "source": [
    "data['Price'].corr(data['Rooms'])"
   ]
  },
  {
   "cell_type": "markdown",
   "metadata": {},
   "source": [
    "* Percebe-se que o preço tende a aumentar conforme aumentam os números de quartos. Uma possível explicação para o preço em apartamentos com 5 quartos ser menor é o fato de que estes podem estar em áreas onde o m² é menos valorizado, assim, apartamentos maiores poderão ter valores não tão altos. Isso também se mostra possível visto que a disparidade de preços em apartamentos com 3 e 4 quartos é muito grande. Porém, dito isso, a correlação ainda se mostra bem pequena, evidenciando o fato que há uma probabilidade de apartamentos com muitos quartos estarem em áreas menos valorizadas\n"
   ]
  },
  {
   "cell_type": "markdown",
   "metadata": {},
   "source": [
    "### Boxplot Parking x Price\n"
   ]
  },
  {
   "cell_type": "code",
   "execution_count": null,
   "metadata": {},
   "outputs": [],
   "source": [
    "# make boxplot with Seaborn\n",
    "bplot=sns.boxplot(y=a, x='Parking', \n",
    "                 data=data, \n",
    "                 width=0.5,\n",
    "                 palette=\"colorblind\")\n",
    " \n",
    "# add stripplot to boxplot with Seaborn\n",
    "bplot=sns.stripplot(y=a, x='Parking', \n",
    "                   data=data, \n",
    "                   jitter=True, \n",
    "                   marker='o', \n",
    "                   alpha=0.5,\n",
    "                   color='black')\n",
    "plt.xlabel('Vagas no Estacionamento')\n",
    "plt.ylabel('Preço do imóvel (em milhões)')\n",
    "plt.title('Preço Imóvel x Vagas no Estacionamento')"
   ]
  },
  {
   "cell_type": "code",
   "execution_count": null,
   "metadata": {},
   "outputs": [],
   "source": [
    "data[\"Parking\"].corr(data[\"Price\"])"
   ]
  },
  {
   "cell_type": "markdown",
   "metadata": {},
   "source": [
    "* Boxplot mostrando a relação entre o preço e as vagas no estacionamento. Aqui vemos que, por mais que tem uma presença forte de outliers nos apartamentos com menos vagas, vale lembrar que estes ainda acatam por outliers por serem consideravelmente menos imóveis que apresentam essas características. Além disso, a correlação de 0.7 é forte, porém não o melhor indicador.\n"
   ]
  },
  {
   "cell_type": "markdown",
   "metadata": {},
   "source": [
    "### Boxplot Elevator x Price"
   ]
  },
  {
   "cell_type": "code",
   "execution_count": null,
   "metadata": {},
   "outputs": [],
   "source": [
    "data.Elevator = data.Elevator.astype('category')\n",
    "data.Elevator.cat.categories = (['Sem', 'Com'])\n",
    "\n",
    "print('Frequências absolutas por Elevador:')\n",
    "ut1 = data.Elevator.value_counts(sort=False).reindex(['Sem', 'Com'])\n",
    "print(ut1,'\\n')\n",
    "\n",
    "data.boxplot(column=\"Price\",by=\"Elevator\")\n",
    "plt.xlabel('Elevador no prédio')\n",
    "plt.ylabel('Preço do imóvel (em milhões)')\n",
    "plt.title('Preço Imóvel x Elevador no prédio')\n",
    "plt.show()\n"
   ]
  },
  {
   "cell_type": "markdown",
   "metadata": {},
   "source": [
    "* Boxplot mostrando a relação entre o preço e se o imóvel possui ou não um elevador. Aqui vemos que, por mais que tem uma presença forte de outliers nos apartamentos com elevadores, vale lembrar que estes ainda acatam por outliers por serem consideravelmente menos imóveis que apresentam essas características.\n"
   ]
  },
  {
   "cell_type": "markdown",
   "metadata": {},
   "source": [
    "### Scatterplot Suítes x Price"
   ]
  },
  {
   "cell_type": "code",
   "execution_count": null,
   "metadata": {},
   "outputs": [],
   "source": [
    "xsuite = data[\"Suites\"]\n",
    "ysuite = a\n",
    "plt.xlabel('Número de suítes')\n",
    "plt.ylabel('Preço do imóvel (em milhões)')\n",
    "plt.title('Preço Imóvel x Número de suítes')\n",
    "plt.scatter(xsuite, ysuite)\n",
    "plt.show()"
   ]
  },
  {
   "cell_type": "code",
   "execution_count": null,
   "metadata": {},
   "outputs": [],
   "source": [
    "xsuite.corr(ysuite)"
   ]
  },
  {
   "cell_type": "markdown",
   "metadata": {},
   "source": [
    "* Scatterplot mostrando a relação entre o número de suítes e o preço dos imóveis da base de dados estudada durante o projeto. Como pode-se perceber, conforme o número de suítes aumenta, o preço dos imóveis também aumentam."
   ]
  },
  {
   "cell_type": "markdown",
   "metadata": {},
   "source": [
    "## Classificador random forest"
   ]
  },
  {
   "cell_type": "markdown",
   "metadata": {},
   "source": [
    "Já filtrada as variáveis obsoletas para o projeto, iremos utilizar da técnica de classificação random forest para encontrar padrões entre os imóveis listados"
   ]
  },
  {
   "cell_type": "code",
   "execution_count": null,
   "metadata": {},
   "outputs": [],
   "source": [
    "data.Price.describe()"
   ]
  },
  {
   "cell_type": "code",
   "execution_count": null,
   "metadata": {},
   "outputs": [],
   "source": [
    "data['Classification']='Muito Alto'\n",
    "data.loc[(data.Price > 380000) & (data.Price <= 679000), \"Classification\"] = 'Alto' \n",
    "data.loc[(data.Price > 250000) & (data.Price <= 380000), \"Classification\"] = 'Médio' \n",
    "data.loc[(data.Price <= 250000), \"Classification\"] = 'Baixo' "
   ]
  },
  {
   "cell_type": "code",
   "execution_count": null,
   "metadata": {},
   "outputs": [],
   "source": [
    "data.Classification.value_counts(True)"
   ]
  },
  {
   "cell_type": "code",
   "execution_count": null,
   "metadata": {},
   "outputs": [],
   "source": [
    "x = data[['Size', 'Condo', 'Rooms', 'Toilets', 'Suites', 'Swimming Pool']]\n",
    "y = data['Classification']"
   ]
  },
  {
   "cell_type": "code",
   "execution_count": null,
   "metadata": {},
   "outputs": [],
   "source": [
    "from sklearn.model_selection import train_test_split\n",
    "x_train, x_test, y_train, y_test = train_test_split(x, y, test_size=0.30, random_state=152)"
   ]
  },
  {
   "cell_type": "code",
   "execution_count": null,
   "metadata": {},
   "outputs": [],
   "source": [
    "from sklearn.ensemble import RandomForestClassifier\n",
    "from sklearn.metrics import accuracy_score\n",
    "\n",
    "model = RandomForestClassifier(n_estimators=100)\n",
    "model.fit(x_train, y_train)\n",
    "y_pred = model.predict(x_test)\n",
    "print('Acurácia: {}'.format(accuracy_score(y_test, y_pred)))"
   ]
  },
  {
   "cell_type": "code",
   "execution_count": 10,
   "metadata": {},
   "outputs": [
    {
     "ename": "NameError",
     "evalue": "name 'y_test' is not defined",
     "output_type": "error",
     "traceback": [
      "\u001b[1;31m---------------------------------------------------------------------------\u001b[0m",
      "\u001b[1;31mNameError\u001b[0m                                 Traceback (most recent call last)",
      "\u001b[1;32m<ipython-input-10-fc1e18d10946>\u001b[0m in \u001b[0;36m<module>\u001b[1;34m\u001b[0m\n\u001b[1;32m----> 1\u001b[1;33m \u001b[0mmatriz\u001b[0m \u001b[1;33m=\u001b[0m \u001b[0mpd\u001b[0m\u001b[1;33m.\u001b[0m\u001b[0mcrosstab\u001b[0m\u001b[1;33m(\u001b[0m\u001b[0my_test\u001b[0m\u001b[1;33m,\u001b[0m \u001b[0my_pred\u001b[0m\u001b[1;33m,\u001b[0m \u001b[0mnormalize\u001b[0m \u001b[1;33m=\u001b[0m \u001b[1;34m'index'\u001b[0m\u001b[1;33m)\u001b[0m\u001b[1;33m\u001b[0m\u001b[1;33m\u001b[0m\u001b[0m\n\u001b[0m\u001b[0;32m      2\u001b[0m \u001b[0mmatriz\u001b[0m\u001b[1;33m\u001b[0m\u001b[1;33m\u001b[0m\u001b[0m\n",
      "\u001b[1;31mNameError\u001b[0m: name 'y_test' is not defined"
     ]
    }
   ],
   "source": [
    "matriz = pd.crosstab(y_test, y_pred, normalize = 'index')\n",
    "matriz"
   ]
  },
  {
   "cell_type": "markdown",
   "metadata": {},
   "source": [
    "## Matriz de Confusão"
   ]
  },
  {
   "cell_type": "code",
   "execution_count": 9,
   "metadata": {},
   "outputs": [
    {
     "ename": "NameError",
     "evalue": "name 'matriz' is not defined",
     "output_type": "error",
     "traceback": [
      "\u001b[1;31m---------------------------------------------------------------------------\u001b[0m",
      "\u001b[1;31mNameError\u001b[0m                                 Traceback (most recent call last)",
      "\u001b[1;32m<ipython-input-9-22891fa50b3b>\u001b[0m in \u001b[0;36m<module>\u001b[1;34m\u001b[0m\n\u001b[0;32m      6\u001b[0m     \u001b[0mplt\u001b[0m\u001b[1;33m.\u001b[0m\u001b[0myticks\u001b[0m\u001b[1;33m(\u001b[0m\u001b[0mtick_marks\u001b[0m\u001b[1;33m,\u001b[0m \u001b[0mdf_confusion\u001b[0m\u001b[1;33m.\u001b[0m\u001b[0mindex\u001b[0m\u001b[1;33m)\u001b[0m\u001b[1;33m\u001b[0m\u001b[1;33m\u001b[0m\u001b[0m\n\u001b[0;32m      7\u001b[0m \u001b[1;33m\u001b[0m\u001b[0m\n\u001b[1;32m----> 8\u001b[1;33m \u001b[0mplot_confusion_matrix\u001b[0m\u001b[1;33m(\u001b[0m\u001b[0mmatriz\u001b[0m\u001b[1;33m)\u001b[0m\u001b[1;33m\u001b[0m\u001b[1;33m\u001b[0m\u001b[0m\n\u001b[0m",
      "\u001b[1;31mNameError\u001b[0m: name 'matriz' is not defined"
     ]
    }
   ],
   "source": [
    "def plot_confusion_matrix(df_confusion, cmap=plt.cm.Blues):\n",
    "    plt.matshow(df_confusion, cmap=cmap) # imshow\n",
    "    plt.colorbar()\n",
    "    tick_marks = np.arange(len(df_confusion.columns))\n",
    "    plt.xticks(tick_marks, df_confusion.columns, rotation=45)\n",
    "    plt.yticks(tick_marks, df_confusion.index)\n",
    "\n",
    "plot_confusion_matrix(matriz)"
   ]
  },
  {
   "cell_type": "markdown",
   "metadata": {},
   "source": [
    "* Como pode-se observar no gráfico da matriz de confusão plotado acima, o classificador tem uma eficácia muito boa ao obter resultados    **Verdadeiros-Verdadeiros** ( Quadrados de cor mais escura observado na diagonal do quadrado), principalmente ao classifcar imóveis categorizados como Baixo e Muito Alto. Além disso, a quantidade de **Falsos-Verdadeiros** obtidas também foi muito satisfatória, devido ao alto índice de acerto que pode ser observado nos quadrados brancos em volta da diagonal principal do gráfico. Em contra partida, embora exista classificações **Verdadeiro-Falso** ( Podendo ser  observados nos quadrados de cor mais acizentada nas bordas do gráfico), são números muitos pequenos sendo quase nulos (Quadrado Branco), confirmando assim que o classificador comete poucos erros."
   ]
  },
  {
   "cell_type": "markdown",
   "metadata": {},
   "source": [
    "## Árvore de decisão do classificador\n"
   ]
  },
  {
   "cell_type": "code",
   "execution_count": null,
   "metadata": {},
   "outputs": [],
   "source": [
    "#Criando arquivo de imagem de uma única árvore do classificador:\n",
    "\n",
    "# Escolhendo uma das árvores\n",
    "estimator = model.estimators_[1]\n",
    "\n",
    "# Transformando em imagem\n",
    "imagem = export_graphviz(estimator, out_file=None, \n",
    "                feature_names = ['Size', 'Condo', 'Rooms', 'Toilets', 'Suites', 'Swimming Pool'],\n",
    "                class_names = ['Muito Alto', 'Alto', 'Médio', 'Baixo'],\n",
    "                rounded = True, proportion = False, \n",
    "                precision = 2, filled = True)\n",
    "# Gerando PDF da imagem\n",
    "garv = graphviz.Source(imagem)\n",
    "garv.render(view = True)"
   ]
  },
  {
   "cell_type": "markdown",
   "metadata": {},
   "source": [
    "* O código acima gera um pdf com a imagem de uma das árvores do classificador, para que se possa visualizar melhor o processo de como o método utilizado funciona e quais caminhos percorre para classificar um dos imóveis."
   ]
  },
  {
   "cell_type": "markdown",
   "metadata": {
    "scrolled": true
   },
   "source": [
    "### Primeira imagem"
   ]
  },
  {
   "cell_type": "markdown",
   "metadata": {},
   "source": [
    "<img src='Arvore_demonstracao.png' width='600'>"
   ]
  },
  {
   "cell_type": "markdown",
   "metadata": {},
   "source": [
    "### Segunda imagem"
   ]
  },
  {
   "cell_type": "markdown",
   "metadata": {},
   "source": [
    "<img src='Arvore_real.png' width='600'>"
   ]
  },
  {
   "cell_type": "markdown",
   "metadata": {},
   "source": [
    "* A primeira imagem mostra uma árvore simplificada, para que seja possível se ter uma melhor visualização do processo. A segunda imagem é a árvore real, sem restrições de profundidade dos galhos da árvore ( a imagem está cortada devido ao fato de que a árvore é tão grande, que não é possível colocá-la inteira dentro de uma só imagem)."
   ]
  },
  {
   "cell_type": "markdown",
   "metadata": {},
   "source": [
    "## Relevância das Respostas"
   ]
  },
  {
   "cell_type": "markdown",
   "metadata": {},
   "source": [
    "Visto as acurácias relativas às quatro classes de imóveis em São Paulo, claramente podemos concluir que as classes baixo e muito alto se mostram mais bem analisadas. Visto isso, hipoteticamente falando, o nosso modelo pode ajudar pessoas de renda baixa e pessoas de muita alta renda a entenderem se um imóvel desejado têm sua faixa de preço justificada, de acordo com as especificações do imóvel. Em contrapartida, Para pessoas de média e alta renda, o modelo não é satisfatório."
   ]
  },
  {
   "cell_type": "markdown",
   "metadata": {},
   "source": [
    "## Tentativa de melhoria"
   ]
  },
  {
   "cell_type": "markdown",
   "metadata": {},
   "source": [
    "   Ao pensarmos em como poderíamos melhorar nosso projeto, a única coisa que vem à cabeça é aumentar o número de variáveis exploratórias para quem sabe aumentar a acurácia do modelo. No entanto, algumas variáveis não foram utilizadas pois a partir de gráficos de dispersão e até mesmo boxplot's, foi possível perceber que não faziam diferença significante no resultado final, por isso essas variáveis não foram utilizadas. Para o futuro, a ideia é criar novas variáveis quantitativas e qualitativas para aperfeiçoar o modelo, de modo que a acurácia aumente para termos um modelo mais eficiente e preciso."
   ]
  },
  {
   "cell_type": "markdown",
   "metadata": {},
   "source": [
    "## Conclusão"
   ]
  },
  {
   "cell_type": "markdown",
   "metadata": {},
   "source": [
    "   O trabalho de mercado imobiliário nos demonstrou eficiente para algumas classes, muito alto e baixo, e pouco eficiente para outras, notavelmente alto e médio. Visto que não há erros no código, a falha foi relativa ao próprio classificador.\n",
    "   Para iterar ao trabalho, talvez seja uma boa ideia testar outro modelos. Isso possibilitaria ao menos comparar a eficiência dos modelos para tentar chegar em um consenso do melhor jeito de fazer um trabalho desse tipo. Além dessa possibilidade, também poderíamos ter vistos base de dados mais completas, com imóveis mais bem distribuídos pelas faixas de preços, para testarmos se a acurácia melhora.\n",
    "   Em suma, o trabalho teve êxito em classificar parte dos imóveis de São Paulo, porém ainda peca em algumas áreas."
   ]
  },
  {
   "cell_type": "markdown",
   "metadata": {},
   "source": [
    "## Fontes:\n",
    "\n",
    "https://scikit-learn.org/stable/auto_examples/model_selection/plot_confusion_matrix.html#sphx-glr-auto-examples-model-selection-plot-confusion-matrix-py<br>\n",
    "https://scikit-learn.org/stable/modules/generated/sklearn.metrics.confusion_matrix.html<br>\n",
    "https://towardsdatascience.com/how-to-visualize-a-decision-tree-from-a-random-forest-in-python-using-scikit-learn-38ad2d75f21c"
   ]
  }
 ],
 "metadata": {
  "kernelspec": {
   "display_name": "Python 3",
   "language": "python",
   "name": "python3"
  },
  "language_info": {
   "codemirror_mode": {
    "name": "ipython",
    "version": 3
   },
   "file_extension": ".py",
   "mimetype": "text/x-python",
   "name": "python",
   "nbconvert_exporter": "python",
   "pygments_lexer": "ipython3",
   "version": "3.7.3"
  }
 },
 "nbformat": 4,
 "nbformat_minor": 2
}
